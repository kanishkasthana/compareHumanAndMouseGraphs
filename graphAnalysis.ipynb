{
 "cells": [
  {
   "cell_type": "markdown",
   "metadata": {},
   "source": [
    "Reading in the Human Graph"
   ]
  },
  {
   "cell_type": "code",
   "execution_count": null,
   "metadata": {
    "collapsed": false
   },
   "outputs": [],
   "source": [
    "humanGraph=read.csv(\"graph_outputHumanAfterBugFix.csv\",header=TRUE)\n",
    "mouseGraph=read.csv(\"graph_outputMouseAfterBugFix.csv\",header=TRUE)\n",
    "humanGraphLogical=(humanGraph!=0)\n",
    "mouseGraphLogical=(mouseGraph!=0)\n",
    "#Each cell of this graph will return a True value only if that edge is present in both graphs\n",
    "intersectGraphLogical=((humanGraphLogical+mouseGraphLogical)>1)\n",
    "intersectEdgeDistribution=apply(intersectGraphLogical,2,sum)\n",
    "pdf(\"distributionOfGraphIntersect.pdf\")\n",
    "hist(intersectEdgeDistribution,50)\n",
    "dev.off()"
   ]
  },
  {
   "cell_type": "markdown",
   "metadata": {},
   "source": [
    "Checking Sparsity for Each Graph"
   ]
  },
  {
   "cell_type": "code",
   "execution_count": null,
   "metadata": {
    "collapsed": false
   },
   "outputs": [],
   "source": [
    "sink(\"graphAnalysisOutput.txt\")\n",
    "humanSparsity=sum(humanGraphLogical)/(nrow(humanGraphLogical)*ncol(humanGraphLogical))\n",
    "print(\"Human Graph Sparsity:\")\n",
    "print(humanSparsity)\n",
    "mouseSparsity=sum(mouseGraphLogical)/(nrow(mouseGraphLogical)*ncol(mouseGraphLogical))\n",
    "print(\"Mouse Graph Sparsity:\")\n",
    "print(mouseSparsity)\n",
    "intersectSparsity=sum(intersectGraphLogical)/(nrow(intersectGraphLogical)*ncol(intersectGraphLogical))\n",
    "print(\"Intersect Graph Sparsity:\")\n",
    "print(intersectSparsity)"
   ]
  },
  {
   "cell_type": "markdown",
   "metadata": {},
   "source": [
    "Getting more Statistics on intersectGraph"
   ]
  },
  {
   "cell_type": "code",
   "execution_count": null,
   "metadata": {
    "collapsed": true
   },
   "outputs": [],
   "source": [
    "print(\"Total Number of Edges in Intersect graph:\")\n",
    "print(sum(intersectGraphLogical))"
   ]
  },
  {
   "cell_type": "markdown",
   "metadata": {},
   "source": [
    "Loading the igraph package for graph analysis"
   ]
  },
  {
   "cell_type": "code",
   "execution_count": null,
   "metadata": {
    "collapsed": true
   },
   "outputs": [],
   "source": [
    "library('igraph')"
   ]
  }
 ],
 "metadata": {
  "kernelspec": {
   "display_name": "R",
   "language": "R",
   "name": "ir"
  },
  "language_info": {
   "codemirror_mode": "r",
   "file_extension": ".r",
   "mimetype": "text/x-r-source",
   "name": "R",
   "pygments_lexer": "r",
   "version": "3.2.3"
  }
 },
 "nbformat": 4,
 "nbformat_minor": 0
}
