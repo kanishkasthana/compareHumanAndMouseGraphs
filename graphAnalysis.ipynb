{
 "cells": [
  {
   "cell_type": "markdown",
   "metadata": {},
   "source": [
    "Reading in the Human Graph"
   ]
  },
  {
   "cell_type": "code",
   "execution_count": null,
   "metadata": {
    "collapsed": false
   },
   "outputs": [],
   "source": [
    "humanGraph=read.csv(\"graph_outputHumanAfterBugFix.csv\",header=TRUE)\n",
    "#Labeling both columns and rows\n",
    "rownames(humanGraph)=colnames(humanGraph)\n",
    "\n",
    "mouseGraph=read.csv(\"graph_outputMouseAfterBugFix.csv\",header=TRUE)\n",
    "#Labeling both column and rows\n",
    "rownames(mouseGraph)=colnames(mouseGraph)\n",
    "\n",
    "humanGraphLogical=(humanGraph!=0)\n",
    "#Setting Diagonal equal to false. We are not interested in self edges.\n",
    "diag(humanGraphLogical)=FALSE\n",
    "\n",
    "mouseGraphLogical=(mouseGraph!=0)\n",
    "#Setting Diagonal equal to false. We are not interested in self edges.\n",
    "diag(mouseGraphLogical)=FALSE\n",
    "\n",
    "\n",
    "#Each cell of this graph will return a True value only if that edge is present in both graphs\n",
    "intersectGraphLogical=((humanGraphLogical+mouseGraphLogical)>1)\n",
    "#Setting Diagonal equal to false. We are not interested in self edges.\n",
    "diag(intersectGraphLogical)=FALSE\n",
    "\n",
    "intersectEdgeDistribution=apply(intersectGraphLogical,2,sum)\n",
    "pdf(\"distributionOfGraphIntersect.pdf\")\n",
    "hist(intersectEdgeDistribution,50)\n",
    "dev.off()"
   ]
  },
  {
   "cell_type": "markdown",
   "metadata": {},
   "source": [
    "Checking Sparsity for Each Graph"
   ]
  },
  {
   "cell_type": "code",
   "execution_count": null,
   "metadata": {
    "collapsed": false
   },
   "outputs": [],
   "source": [
    "sink(\"graphAnalysisOutput.txt\")\n",
    "humanSparsity=sum(humanGraphLogical)/(nrow(humanGraphLogical)*ncol(humanGraphLogical))\n",
    "print(\"Human Graph Sparsity:\")\n",
    "print(humanSparsity)\n",
    "mouseSparsity=sum(mouseGraphLogical)/(nrow(mouseGraphLogical)*ncol(mouseGraphLogical))\n",
    "print(\"Mouse Graph Sparsity:\")\n",
    "print(mouseSparsity)\n",
    "intersectSparsity=sum(intersectGraphLogical)/(nrow(intersectGraphLogical)*ncol(intersectGraphLogical))\n",
    "print(\"Intersect Graph Sparsity:\")\n",
    "print(intersectSparsity)"
   ]
  },
  {
   "cell_type": "markdown",
   "metadata": {},
   "source": [
    "Getting more Statistics on intersectGraph"
   ]
  },
  {
   "cell_type": "code",
   "execution_count": null,
   "metadata": {
    "collapsed": false
   },
   "outputs": [],
   "source": [
    "print(\"Total Number of Edges in Intersect graph:\")\n",
    "print(sum(intersectGraphLogical))"
   ]
  },
  {
   "cell_type": "markdown",
   "metadata": {},
   "source": [
    "Loading the igraph package for graph analysis"
   ]
  },
  {
   "cell_type": "code",
   "execution_count": null,
   "metadata": {
    "collapsed": false
   },
   "outputs": [],
   "source": [
    "library('igraph')"
   ]
  },
  {
   "cell_type": "markdown",
   "metadata": {},
   "source": [
    "Creating igraph objects for Human and Mouse graphs"
   ]
  },
  {
   "cell_type": "code",
   "execution_count": null,
   "metadata": {
    "collapsed": false
   },
   "outputs": [],
   "source": [
    "intersectIGraph=graph.adjacency(intersectGraphLogical, mode = c(\"undirected\"), weighted = NULL, diag=FALSE)"
   ]
  },
  {
   "cell_type": "markdown",
   "metadata": {},
   "source": [
    "Finding Cliques in the graph"
   ]
  },
  {
   "cell_type": "code",
   "execution_count": null,
   "metadata": {
    "collapsed": false
   },
   "outputs": [],
   "source": [
    "#Most of the cliques have 2 vetices. I get 29 groups with 3 or more vertices. Lets see what these are:\n",
    "intersectGraphCliques=max_cliques(intersectIGraph,min=3,file=\"intersectGraphCliques.txt\")\n",
    "cliqueData=read.table(\"intersectGraphCliques.txt\",header=FALSE)\n",
    "geneNames=colnames(intersectGraphLogical)\n",
    "cliqueNames=apply(cliqueData,1,function(rownumbers){\n",
    "    return(geneNames[rownumbers])\n",
    "})\n",
    "\n",
    "cliqueNames=t(cliqueNames)\n",
    "print(cliqueNames)\n",
    "write.table(cliqueNames,\"cliqueNames.txt\", sep=\",\", quote=FALSE, row.names=FALSE)\n",
    "\n"
   ]
  }
 ],
 "metadata": {
  "kernelspec": {
   "display_name": "R",
   "language": "R",
   "name": "ir"
  },
  "language_info": {
   "codemirror_mode": "r",
   "file_extension": ".r",
   "mimetype": "text/x-r-source",
   "name": "R",
   "pygments_lexer": "r",
   "version": "3.2.3"
  }
 },
 "nbformat": 4,
 "nbformat_minor": 0
}
