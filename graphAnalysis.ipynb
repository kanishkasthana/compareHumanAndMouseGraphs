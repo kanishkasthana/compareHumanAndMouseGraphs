{
 "cells": [
  {
   "cell_type": "markdown",
   "metadata": {},
   "source": [
    "Reading in the Human Graph"
   ]
  },
  {
   "cell_type": "code",
   "execution_count": 1,
   "metadata": {
    "collapsed": false
   },
   "outputs": [
    {
     "data": {
      "text/html": [
       "<table>\n",
       "<thead><tr><th></th><th scope=col>used</th><th scope=col>(Mb)</th><th scope=col>gc trigger</th><th scope=col>(Mb)</th><th scope=col>max used</th><th scope=col>(Mb)</th></tr></thead>\n",
       "<tbody>\n",
       "\t<tr><th scope=row>Ncells</th><td> 326195.0</td><td>     17.5</td><td>2051488.0</td><td>    109.6</td><td>3205452.0</td><td>    171.2</td></tr>\n",
       "\t<tr><th scope=row>Vcells</th><td>  2522252.0</td><td>       19.3</td><td>244037534.0</td><td>     1861.9</td><td>305045247.0</td><td>     2327.4</td></tr>\n",
       "</tbody>\n",
       "</table>\n"
      ],
      "text/latex": [
       "\\begin{tabular}{r|llllll}\n",
       "  & used & (Mb) & gc trigger & (Mb) & max used & (Mb)\\\\\n",
       "\\hline\n",
       "\tNcells &  326195.0 &      17.5 & 2051488.0 &     109.6 & 3205452.0 &     171.2\\\\\n",
       "\tVcells &   2522252.0 &        19.3 & 244037534.0 &      1861.9 & 305045247.0 &      2327.4\\\\\n",
       "\\end{tabular}\n"
      ],
      "text/markdown": [
       "1. 326195\n",
       "2. 2522252\n",
       "3. 17.5\n",
       "4. 19.3\n",
       "5. 2051488\n",
       "6. 244037534\n",
       "7. 109.6\n",
       "8. 1861.9\n",
       "9. 3205452\n",
       "10. 305045247\n",
       "11. 171.2\n",
       "12. 2327.4\n",
       "\n",
       "\n"
      ],
      "text/plain": [
       "          used (Mb) gc trigger   (Mb)  max used   (Mb)\n",
       "Ncells  326195 17.5    2051488  109.6   3205452  171.2\n",
       "Vcells 2522252 19.3  244037534 1861.9 305045247 2327.4"
      ]
     },
     "execution_count": 1,
     "metadata": {},
     "output_type": "execute_result"
    }
   ],
   "source": [
    "humanGraph=read.csv(\"graph_outputHumanAfterBugFix.csv\",header=TRUE)\n",
    "humanGraph=humanGraph[1:1000,1:1000]\n",
    "gc()\n",
    "humanGraphLogical=(humanGraph!=0)"
   ]
  },
  {
   "cell_type": "markdown",
   "metadata": {},
   "source": [
    "Checking Sparsity"
   ]
  },
  {
   "cell_type": "code",
   "execution_count": 2,
   "metadata": {
    "collapsed": false
   },
   "outputs": [
    {
     "name": "stdout",
     "output_type": "stream",
     "text": [
      "[1] 0.010846\n"
     ]
    }
   ],
   "source": [
    "sparsity=sum(humanGraphLogical)/(nrow(humanGraph)*ncol(humanGraph))\n",
    "print(sparsity)"
   ]
  },
  {
   "cell_type": "markdown",
   "metadata": {},
   "source": [
    "Loading the igraph package for graph analysis"
   ]
  },
  {
   "cell_type": "code",
   "execution_count": 3,
   "metadata": {
    "collapsed": false
   },
   "outputs": [
    {
     "name": "stderr",
     "output_type": "stream",
     "text": [
      "\n",
      "Attaching package: ‘igraph’\n",
      "\n",
      "The following objects are masked from ‘package:stats’:\n",
      "\n",
      "    decompose, spectrum\n",
      "\n",
      "The following object is masked from ‘package:base’:\n",
      "\n",
      "    union\n",
      "\n"
     ]
    }
   ],
   "source": [
    "library('igraph')"
   ]
  },
  {
   "cell_type": "code",
   "execution_count": null,
   "metadata": {
    "collapsed": true
   },
   "outputs": [],
   "source": []
  }
 ],
 "metadata": {
  "kernelspec": {
   "display_name": "R",
   "language": "R",
   "name": "ir"
  },
  "language_info": {
   "codemirror_mode": "r",
   "file_extension": ".r",
   "mimetype": "text/x-r-source",
   "name": "R",
   "pygments_lexer": "r",
   "version": "3.2.3"
  }
 },
 "nbformat": 4,
 "nbformat_minor": 0
}
