{
 "cells": [
  {
   "cell_type": "markdown",
   "metadata": {},
   "source": [
    "Reading in the Human Graph"
   ]
  },
  {
   "cell_type": "code",
   "execution_count": 1,
   "metadata": {
    "collapsed": false
   },
   "outputs": [
    {
     "data": {
      "text/html": [
       "<table>\n",
       "<thead><tr><th></th><th scope=col>used</th><th scope=col>(Mb)</th><th scope=col>gc trigger</th><th scope=col>(Mb)</th><th scope=col>max used</th><th scope=col>(Mb)</th></tr></thead>\n",
       "<tbody>\n",
       "\t<tr><th scope=row>Ncells</th><td> 325308.0</td><td>     17.4</td><td>2051488.0</td><td>    109.6</td><td>3205452.0</td><td>    171.2</td></tr>\n",
       "\t<tr><th scope=row>Vcells</th><td>  2523328.0</td><td>       19.3</td><td>244284098.0</td><td>     1863.8</td><td>305351511.0</td><td>     2329.7</td></tr>\n",
       "</tbody>\n",
       "</table>\n"
      ],
      "text/latex": [
       "\\begin{tabular}{r|llllll}\n",
       "  & used & (Mb) & gc trigger & (Mb) & max used & (Mb)\\\\\n",
       "\\hline\n",
       "\tNcells &  325308.0 &      17.4 & 2051488.0 &     109.6 & 3205452.0 &     171.2\\\\\n",
       "\tVcells &   2523328.0 &        19.3 & 244284098.0 &      1863.8 & 305351511.0 &      2329.7\\\\\n",
       "\\end{tabular}\n"
      ],
      "text/markdown": [
       "1. 325308\n",
       "2. 2523328\n",
       "3. 17.4\n",
       "4. 19.3\n",
       "5. 2051488\n",
       "6. 244284098\n",
       "7. 109.6\n",
       "8. 1863.8\n",
       "9. 3205452\n",
       "10. 305351511\n",
       "11. 171.2\n",
       "12. 2329.7\n",
       "\n",
       "\n"
      ],
      "text/plain": [
       "          used (Mb) gc trigger   (Mb)  max used   (Mb)\n",
       "Ncells  325308 17.4    2051488  109.6   3205452  171.2\n",
       "Vcells 2523328 19.3  244284098 1863.8 305351511 2329.7"
      ]
     },
     "execution_count": 1,
     "metadata": {},
     "output_type": "execute_result"
    },
    {
     "data": {
      "text/html": [
       "<table>\n",
       "<thead><tr><th></th><th scope=col>used</th><th scope=col>(Mb)</th><th scope=col>gc trigger</th><th scope=col>(Mb)</th><th scope=col>max used</th><th scope=col>(Mb)</th></tr></thead>\n",
       "<tbody>\n",
       "\t<tr><th scope=row>Ncells</th><td> 330667.0</td><td>     17.7</td><td>2952456.0</td><td>    157.7</td><td>3690570.0</td><td>    197.1</td></tr>\n",
       "\t<tr><th scope=row>Vcells</th><td>  4580589.0</td><td>       35.0</td><td>281556080.0</td><td>     2148.2</td><td>351942245.0</td><td>     2685.2</td></tr>\n",
       "</tbody>\n",
       "</table>\n"
      ],
      "text/latex": [
       "\\begin{tabular}{r|llllll}\n",
       "  & used & (Mb) & gc trigger & (Mb) & max used & (Mb)\\\\\n",
       "\\hline\n",
       "\tNcells &  330667.0 &      17.7 & 2952456.0 &     157.7 & 3690570.0 &     197.1\\\\\n",
       "\tVcells &   4580589.0 &        35.0 & 281556080.0 &      2148.2 & 351942245.0 &      2685.2\\\\\n",
       "\\end{tabular}\n"
      ],
      "text/markdown": [
       "1. 330667\n",
       "2. 4580589\n",
       "3. 17.7\n",
       "4. 35\n",
       "5. 2952456\n",
       "6. 281556080\n",
       "7. 157.7\n",
       "8. 2148.2\n",
       "9. 3690570\n",
       "10. 351942245\n",
       "11. 197.1\n",
       "12. 2685.2\n",
       "\n",
       "\n"
      ],
      "text/plain": [
       "          used (Mb) gc trigger   (Mb)  max used   (Mb)\n",
       "Ncells  330667 17.7    2952456  157.7   3690570  197.1\n",
       "Vcells 4580589 35.0  281556080 2148.2 351942245 2685.2"
      ]
     },
     "execution_count": 1,
     "metadata": {},
     "output_type": "execute_result"
    },
    {
     "data": {
      "text/html": [
       "<strong>pdf:</strong> 2"
      ],
      "text/latex": [
       "\\textbf{pdf:} 2"
      ],
      "text/markdown": [
       "**pdf:** 2"
      ],
      "text/plain": [
       "pdf \n",
       "  2 "
      ]
     },
     "execution_count": 1,
     "metadata": {},
     "output_type": "execute_result"
    }
   ],
   "source": [
    "humanGraph=read.csv(\"graph_outputHumanAfterBugFix.csv\",header=TRUE)\n",
    "#Labeling both columns and rows\n",
    "rownames(humanGraph)=colnames(humanGraph)\n",
    "#Temporarily taking only a subset of the graphs for writting the program\n",
    "#humanGraph=humanGraph[1:1000,1:1000]\n",
    "gc()#Garbage Collection to free up memory\n",
    "mouseGraph=read.csv(\"graph_outputMouseAfterBugFix.csv\",header=TRUE)\n",
    "#Labeling both column and rows\n",
    "rownames(mouseGraph)=colnames(mouseGraph)\n",
    "#Temporarily taking only a subset of the graphs for writting the program\n",
    "#mouseGraph=mouseGraph[1:1000,1:1000]\n",
    "gc()#Garbage Collection to free up memory\n",
    "\n",
    "humanGraphLogical=(humanGraph!=0)\n",
    "mouseGraphLogical=(mouseGraph!=0)\n",
    "#Each cell of this graph will return a True value only if that edge is present in both graphs\n",
    "intersectGraphLogical=((humanGraphLogical+mouseGraphLogical)>1)\n",
    "intersectEdgeDistribution=apply(intersectGraphLogical,2,sum)\n",
    "pdf(\"distributionOfGraphIntersect.pdf\")\n",
    "hist(intersectEdgeDistribution,50)\n",
    "dev.off()"
   ]
  },
  {
   "cell_type": "markdown",
   "metadata": {},
   "source": [
    "Checking Sparsity for Each Graph"
   ]
  },
  {
   "cell_type": "code",
   "execution_count": 2,
   "metadata": {
    "collapsed": false
   },
   "outputs": [
    {
     "name": "stdout",
     "output_type": "stream",
     "text": [
      "[1] \"Human Graph Sparsity:\"\n",
      "[1] 0.010846\n",
      "[1] \"Mouse Graph Sparsity:\"\n",
      "[1] 0.014832\n",
      "[1] \"Intersect Graph Sparsity:\"\n",
      "[1] 0.001138\n"
     ]
    }
   ],
   "source": [
    "sink(\"graphAnalysisOutput.txt\")\n",
    "humanSparsity=sum(humanGraphLogical)/(nrow(humanGraphLogical)*ncol(humanGraphLogical))\n",
    "print(\"Human Graph Sparsity:\")\n",
    "print(humanSparsity)\n",
    "mouseSparsity=sum(mouseGraphLogical)/(nrow(mouseGraphLogical)*ncol(mouseGraphLogical))\n",
    "print(\"Mouse Graph Sparsity:\")\n",
    "print(mouseSparsity)\n",
    "intersectSparsity=sum(intersectGraphLogical)/(nrow(intersectGraphLogical)*ncol(intersectGraphLogical))\n",
    "print(\"Intersect Graph Sparsity:\")\n",
    "print(intersectSparsity)"
   ]
  },
  {
   "cell_type": "markdown",
   "metadata": {},
   "source": [
    "Getting more Statistics on intersectGraph"
   ]
  },
  {
   "cell_type": "code",
   "execution_count": 3,
   "metadata": {
    "collapsed": false
   },
   "outputs": [
    {
     "name": "stdout",
     "output_type": "stream",
     "text": [
      "[1] \"Total Number of Edges in Intersect graph:\"\n",
      "[1] 1138\n"
     ]
    }
   ],
   "source": [
    "print(\"Total Number of Edges in Intersect graph:\")\n",
    "print(sum(intersectGraphLogical))"
   ]
  },
  {
   "cell_type": "markdown",
   "metadata": {},
   "source": [
    "Loading the igraph package for graph analysis"
   ]
  },
  {
   "cell_type": "code",
   "execution_count": 4,
   "metadata": {
    "collapsed": false
   },
   "outputs": [
    {
     "name": "stderr",
     "output_type": "stream",
     "text": [
      "\n",
      "Attaching package: ‘igraph’\n",
      "\n",
      "The following objects are masked from ‘package:stats’:\n",
      "\n",
      "    decompose, spectrum\n",
      "\n",
      "The following object is masked from ‘package:base’:\n",
      "\n",
      "    union\n",
      "\n"
     ]
    }
   ],
   "source": [
    "library('igraph')"
   ]
  },
  {
   "cell_type": "markdown",
   "metadata": {},
   "source": [
    "Creating igraph objects for Human and Mouse graphs"
   ]
  },
  {
   "cell_type": "code",
   "execution_count": 6,
   "metadata": {
    "collapsed": false
   },
   "outputs": [],
   "source": [
    "intersectIGraph=graph.adjacency(intersectGraphLogical, mode = c(\"undirected\"), weighted = NULL, diag=FALSE)"
   ]
  },
  {
   "cell_type": "markdown",
   "metadata": {},
   "source": [
    "Finding Cliques in the graph"
   ]
  },
  {
   "cell_type": "code",
   "execution_count": 31,
   "metadata": {
    "collapsed": false
   },
   "outputs": [
    {
     "data": {
      "text/plain": [
       "NULL"
      ]
     },
     "execution_count": 31,
     "metadata": {},
     "output_type": "execute_result"
    }
   ],
   "source": [
    "intersectGraphCliques=max_cliques(intersectIGraph,min=2,file=\"intersectGraphCliques.txt\")"
   ]
  },
  {
   "cell_type": "code",
   "execution_count": null,
   "metadata": {
    "collapsed": true
   },
   "outputs": [],
   "source": []
  }
 ],
 "metadata": {
  "kernelspec": {
   "display_name": "R",
   "language": "R",
   "name": "ir"
  },
  "language_info": {
   "codemirror_mode": "r",
   "file_extension": ".r",
   "mimetype": "text/x-r-source",
   "name": "R",
   "pygments_lexer": "r",
   "version": "3.2.3"
  }
 },
 "nbformat": 4,
 "nbformat_minor": 0
}
